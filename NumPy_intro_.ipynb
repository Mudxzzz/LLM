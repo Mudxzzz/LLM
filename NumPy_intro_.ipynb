{
  "nbformat": 4,
  "nbformat_minor": 0,
  "metadata": {
    "colab": {
      "provenance": [],
      "authorship_tag": "ABX9TyOpFO/NIFFwqo/uYEeGeg77",
      "include_colab_link": true
    },
    "kernelspec": {
      "name": "python3",
      "display_name": "Python 3"
    },
    "language_info": {
      "name": "python"
    }
  },
  "cells": [
    {
      "cell_type": "markdown",
      "metadata": {
        "id": "view-in-github",
        "colab_type": "text"
      },
      "source": [
        "<a href=\"https://colab.research.google.com/github/Mudxzzz/LLM/blob/main/NumPy_intro_.ipynb\" target=\"_parent\"><img src=\"https://colab.research.google.com/assets/colab-badge.svg\" alt=\"Open In Colab\"/></a>"
      ]
    },
    {
      "cell_type": "code",
      "execution_count": null,
      "metadata": {
        "id": "xxWd_EyYwRFp"
      },
      "outputs": [],
      "source": [
        "import pandas as pd\n",
        "import numpy as np"
      ]
    },
    {
      "cell_type": "code",
      "source": [
        "from IPython.core.interactiveshell import InteractiveShell\n",
        "InteractiveShell.ast_node_interactivity = \"all\""
      ],
      "metadata": {
        "id": "DgnMiO_ewgYs"
      },
      "execution_count": null,
      "outputs": []
    },
    {
      "cell_type": "code",
      "source": [
        "k = np.array([1,2,3,4,5])"
      ],
      "metadata": {
        "id": "HNGKasO0wm4T"
      },
      "execution_count": null,
      "outputs": []
    },
    {
      "cell_type": "code",
      "source": [
        "type(k)"
      ],
      "metadata": {
        "colab": {
          "base_uri": "https://localhost:8080/"
        },
        "id": "ffrBT5rQxXv7",
        "outputId": "af8ab358-b3b3-4663-c76a-5f0c8f8f75af"
      },
      "execution_count": null,
      "outputs": [
        {
          "output_type": "execute_result",
          "data": {
            "text/plain": [
              "numpy.ndarray"
            ]
          },
          "metadata": {},
          "execution_count": 4
        }
      ]
    },
    {
      "cell_type": "code",
      "source": [
        "k = np.array((1,2,3,4,5))"
      ],
      "metadata": {
        "id": "HCTEafUHxaK8"
      },
      "execution_count": null,
      "outputs": []
    },
    {
      "cell_type": "code",
      "source": [
        "k\n"
      ],
      "metadata": {
        "colab": {
          "base_uri": "https://localhost:8080/"
        },
        "id": "Mp4XC8yVxfzp",
        "outputId": "fea7ae0f-6e08-469d-c580-a920024e6854"
      },
      "execution_count": null,
      "outputs": [
        {
          "output_type": "execute_result",
          "data": {
            "text/plain": [
              "array([1, 2, 3, 4, 5])"
            ]
          },
          "metadata": {},
          "execution_count": 6
        }
      ]
    },
    {
      "cell_type": "code",
      "source": [
        "k"
      ],
      "metadata": {
        "colab": {
          "base_uri": "https://localhost:8080/"
        },
        "id": "f7tjqaAbxhl5",
        "outputId": "40213aab-dfda-4727-8de4-bd733f6ba13b"
      },
      "execution_count": null,
      "outputs": [
        {
          "output_type": "execute_result",
          "data": {
            "text/plain": [
              "array([1, 2, 3, 4, 5])"
            ]
          },
          "metadata": {},
          "execution_count": 8
        }
      ]
    },
    {
      "cell_type": "code",
      "source": [
        "t = [1,2,3,4,5]"
      ],
      "metadata": {
        "id": "m_IhDl4BxmuR"
      },
      "execution_count": null,
      "outputs": []
    },
    {
      "cell_type": "code",
      "source": [
        "t * 2"
      ],
      "metadata": {
        "colab": {
          "base_uri": "https://localhost:8080/"
        },
        "id": "rBpAbqoxx0Ka",
        "outputId": "f90b011f-03a2-4df5-b3d9-a6e2c9d0a465"
      },
      "execution_count": null,
      "outputs": [
        {
          "output_type": "execute_result",
          "data": {
            "text/plain": [
              "[1, 2, 3, 4, 5, 1, 2, 3, 4, 5]"
            ]
          },
          "metadata": {},
          "execution_count": 10
        }
      ]
    },
    {
      "cell_type": "code",
      "source": [
        "k*2"
      ],
      "metadata": {
        "colab": {
          "base_uri": "https://localhost:8080/"
        },
        "id": "Ps7jVZVKx12-",
        "outputId": "213cd9a7-144d-45bc-e0c4-9b2278eee396"
      },
      "execution_count": null,
      "outputs": [
        {
          "output_type": "execute_result",
          "data": {
            "text/plain": [
              "array([ 2,  4,  6,  8, 10])"
            ]
          },
          "metadata": {},
          "execution_count": 11
        }
      ]
    },
    {
      "cell_type": "code",
      "source": [
        "k.min(); k.max(); k.sum(); k.mean(); k.std(); k.var()"
      ],
      "metadata": {
        "colab": {
          "base_uri": "https://localhost:8080/"
        },
        "id": "W6DrIDVCx34c",
        "outputId": "f7e19592-8796-4e82-cd68-95faadf25332"
      },
      "execution_count": null,
      "outputs": [
        {
          "output_type": "execute_result",
          "data": {
            "text/plain": [
              "1"
            ]
          },
          "metadata": {},
          "execution_count": 13
        },
        {
          "output_type": "execute_result",
          "data": {
            "text/plain": [
              "5"
            ]
          },
          "metadata": {},
          "execution_count": 13
        },
        {
          "output_type": "execute_result",
          "data": {
            "text/plain": [
              "15"
            ]
          },
          "metadata": {},
          "execution_count": 13
        },
        {
          "output_type": "execute_result",
          "data": {
            "text/plain": [
              "3.0"
            ]
          },
          "metadata": {},
          "execution_count": 13
        },
        {
          "output_type": "execute_result",
          "data": {
            "text/plain": [
              "1.4142135623730951"
            ]
          },
          "metadata": {},
          "execution_count": 13
        },
        {
          "output_type": "execute_result",
          "data": {
            "text/plain": [
              "2.0"
            ]
          },
          "metadata": {},
          "execution_count": 13
        }
      ]
    },
    {
      "cell_type": "code",
      "source": [
        "k.argmax(); k.argmin()"
      ],
      "metadata": {
        "colab": {
          "base_uri": "https://localhost:8080/"
        },
        "id": "KuM5oq8iyXR5",
        "outputId": "3c43398c-649c-42eb-827e-2a815bc0fb3c"
      },
      "execution_count": null,
      "outputs": [
        {
          "output_type": "execute_result",
          "data": {
            "text/plain": [
              "4"
            ]
          },
          "metadata": {},
          "execution_count": 14
        },
        {
          "output_type": "execute_result",
          "data": {
            "text/plain": [
              "0"
            ]
          },
          "metadata": {},
          "execution_count": 14
        }
      ]
    },
    {
      "cell_type": "code",
      "source": [
        "np.random.rand(5,2)"
      ],
      "metadata": {
        "colab": {
          "base_uri": "https://localhost:8080/"
        },
        "id": "RNMKLki7y5L-",
        "outputId": "567a650c-a7c3-4436-a99a-85934af9776c"
      },
      "execution_count": null,
      "outputs": [
        {
          "output_type": "execute_result",
          "data": {
            "text/plain": [
              "array([[0.74363121, 0.8014879 ],\n",
              "       [0.30855127, 0.89941082],\n",
              "       [0.82115753, 0.1074597 ],\n",
              "       [0.1883246 , 0.68125345],\n",
              "       [0.41624646, 0.73975189]])"
            ]
          },
          "metadata": {},
          "execution_count": 15
        }
      ]
    },
    {
      "cell_type": "code",
      "source": [
        "np.random.normal(5,1,(5,3))"
      ],
      "metadata": {
        "colab": {
          "base_uri": "https://localhost:8080/"
        },
        "id": "E_eHwUEazbBz",
        "outputId": "0c7fefba-2792-4f80-fd25-a42e5c21f5f4"
      },
      "execution_count": null,
      "outputs": [
        {
          "output_type": "execute_result",
          "data": {
            "text/plain": [
              "array([[5.62796988, 4.79560387, 6.60412219],\n",
              "       [3.62848361, 5.11562404, 5.20729381],\n",
              "       [4.39409178, 5.84949556, 5.65058805],\n",
              "       [5.34330267, 4.25819927, 5.19513006],\n",
              "       [4.80235248, 6.58698048, 5.26955904]])"
            ]
          },
          "metadata": {},
          "execution_count": 16
        }
      ]
    },
    {
      "cell_type": "code",
      "source": [
        "r = np.random.normal(5,1, (40,5))\n",
        "r = np.round(r,2)"
      ],
      "metadata": {
        "id": "NWegbcoAzqsm"
      },
      "execution_count": null,
      "outputs": []
    },
    {
      "cell_type": "code",
      "source": [
        "r"
      ],
      "metadata": {
        "colab": {
          "base_uri": "https://localhost:8080/"
        },
        "id": "fX610SAZ0bdU",
        "outputId": "7657e8be-1679-47de-b534-d3e821c2b5c0"
      },
      "execution_count": null,
      "outputs": [
        {
          "output_type": "execute_result",
          "data": {
            "text/plain": [
              "array([[4.35, 5.19, 5.31, 6.27, 4.4 ],\n",
              "       [3.78, 4.54, 4.76, 6.17, 4.54],\n",
              "       [4.76, 4.78, 4.68, 5.25, 3.13],\n",
              "       [4.43, 5.11, 4.12, 5.02, 2.7 ],\n",
              "       [4.61, 5.44, 3.47, 3.66, 4.15],\n",
              "       [5.17, 5.08, 3.36, 5.4 , 4.96],\n",
              "       [5.76, 5.5 , 4.03, 5.49, 5.13],\n",
              "       [5.9 , 3.94, 4.  , 6.68, 4.39],\n",
              "       [5.33, 4.08, 3.71, 7.35, 6.15],\n",
              "       [5.21, 2.87, 5.17, 6.48, 3.92],\n",
              "       [4.  , 6.41, 4.9 , 5.53, 6.05],\n",
              "       [3.03, 5.03, 5.11, 4.71, 4.53],\n",
              "       [4.46, 6.96, 5.35, 5.14, 5.95],\n",
              "       [4.91, 4.87, 4.52, 4.14, 4.07],\n",
              "       [4.17, 4.39, 2.96, 6.21, 4.44],\n",
              "       [5.93, 3.95, 4.36, 5.36, 5.42],\n",
              "       [4.99, 5.19, 4.65, 5.34, 4.13],\n",
              "       [6.2 , 5.08, 5.07, 4.97, 6.2 ],\n",
              "       [5.48, 6.36, 5.02, 4.72, 5.38],\n",
              "       [6.71, 4.79, 5.34, 2.75, 5.67],\n",
              "       [5.53, 5.12, 4.48, 4.42, 5.57],\n",
              "       [4.17, 4.55, 5.1 , 3.21, 4.32],\n",
              "       [5.47, 4.19, 6.7 , 3.97, 5.23],\n",
              "       [5.16, 3.38, 3.72, 4.6 , 4.72],\n",
              "       [3.43, 3.75, 4.69, 5.06, 5.12],\n",
              "       [4.87, 4.88, 4.1 , 4.07, 3.75],\n",
              "       [4.19, 4.52, 4.78, 5.4 , 5.75],\n",
              "       [3.78, 3.18, 7.37, 6.9 , 5.94],\n",
              "       [5.54, 5.05, 4.45, 6.45, 5.61],\n",
              "       [5.6 , 3.9 , 5.44, 3.81, 3.94],\n",
              "       [4.49, 6.61, 4.54, 4.36, 4.16],\n",
              "       [5.22, 4.14, 3.36, 4.53, 4.56],\n",
              "       [6.46, 7.08, 5.92, 5.21, 5.74],\n",
              "       [4.8 , 6.15, 3.01, 5.49, 4.47],\n",
              "       [5.88, 3.87, 4.79, 4.47, 5.57],\n",
              "       [6.88, 4.37, 5.25, 4.02, 4.14],\n",
              "       [5.98, 3.98, 4.59, 3.21, 4.3 ],\n",
              "       [2.65, 3.61, 4.74, 3.7 , 5.72],\n",
              "       [3.2 , 3.15, 5.95, 4.76, 5.88],\n",
              "       [5.52, 4.22, 4.26, 3.38, 6.29]])"
            ]
          },
          "metadata": {},
          "execution_count": 21
        }
      ]
    },
    {
      "cell_type": "code",
      "source": [
        "r.mean(axis=1)"
      ],
      "metadata": {
        "colab": {
          "base_uri": "https://localhost:8080/"
        },
        "id": "G0WOC2EQ8pUu",
        "outputId": "54d98d0a-0012-47c5-bde7-b8ca0ebbaeb4"
      },
      "execution_count": null,
      "outputs": [
        {
          "output_type": "execute_result",
          "data": {
            "text/plain": [
              "array([5.104, 4.758, 4.52 , 4.276, 4.266, 4.794, 5.182, 4.982, 5.324,\n",
              "       4.73 , 5.378, 4.482, 5.572, 4.502, 4.434, 5.004, 4.86 , 5.504,\n",
              "       5.392, 5.052, 5.024, 4.27 , 5.112, 4.316, 4.41 , 4.334, 4.928,\n",
              "       5.434, 5.42 , 4.538, 4.832, 4.362, 6.082, 4.784, 4.916, 4.932,\n",
              "       4.412, 4.084, 4.588, 4.734])"
            ]
          },
          "metadata": {},
          "execution_count": 43
        }
      ]
    },
    {
      "cell_type": "code",
      "source": [
        "u = pd.DataFrame(r, columns = ['a','b','c','d','e'])"
      ],
      "metadata": {
        "id": "S2UfgTmz0yDS"
      },
      "execution_count": null,
      "outputs": []
    },
    {
      "cell_type": "code",
      "source": [
        "u = pd.DataFrame(r, columns = ['a','b','c','d','e'])"
      ],
      "metadata": {
        "id": "tbOmbt621ZSO"
      },
      "execution_count": null,
      "outputs": []
    },
    {
      "cell_type": "markdown",
      "source": [
        "making a plot"
      ],
      "metadata": {
        "id": "aEUGS-oA2dqs"
      }
    },
    {
      "cell_type": "code",
      "source": [
        "u[['a']].plot(kind = 'density')"
      ],
      "metadata": {
        "colab": {
          "base_uri": "https://localhost:8080/",
          "height": 448
        },
        "id": "bvhosVs910Jq",
        "outputId": "e45408f1-bbd7-4e27-da3a-873acb8e9c04"
      },
      "execution_count": null,
      "outputs": [
        {
          "output_type": "execute_result",
          "data": {
            "text/plain": [
              "<Axes: ylabel='Density'>"
            ]
          },
          "metadata": {},
          "execution_count": 28
        },
        {
          "output_type": "display_data",
          "data": {
            "text/plain": [
              "<Figure size 640x480 with 1 Axes>"
            ],
            "image/png": "[encoded data removed]"
          },
          "metadata": {}
        }
      ]
    },
    {
      "cell_type": "markdown",
      "source": [
        "Box plot"
      ],
      "metadata": {
        "id": "iKg99Ieb2jvi"
      }
    },
    {
      "cell_type": "code",
      "source": [
        "u[['a']].plot(kind = 'box')"
      ],
      "metadata": {
        "colab": {
          "base_uri": "https://localhost:8080/",
          "height": 448
        },
        "id": "vsjGaF8K2QBR",
        "outputId": "46de51ba-2265-440b-8a58-e9a5210d5260"
      },
      "execution_count": null,
      "outputs": [
        {
          "output_type": "execute_result",
          "data": {
            "text/plain": [
              "<Axes: >"
            ]
          },
          "metadata": {},
          "execution_count": 29
        },
        {
          "output_type": "display_data",
          "data": {
            "text/plain": [
              "<Figure size 640x480 with 1 Axes>"
            ],
            "image/png": "[encoded data removed]"
          },
          "metadata": {}
        }
      ]
    },
    {
      "cell_type": "markdown",
      "source": [
        "Line"
      ],
      "metadata": {
        "id": "g_l6kE8V2mZU"
      }
    },
    {
      "cell_type": "code",
      "source": [
        "u[['a', 'b']].plot(kind = 'line')"
      ],
      "metadata": {
        "colab": {
          "base_uri": "https://localhost:8080/",
          "height": 448
        },
        "id": "XDQ8cu6s2iPg",
        "outputId": "242ed497-4b4e-47f0-c6f2-589310ced16a"
      },
      "execution_count": null,
      "outputs": [
        {
          "output_type": "execute_result",
          "data": {
            "text/plain": [
              "<Axes: >"
            ]
          },
          "metadata": {},
          "execution_count": 30
        },
        {
          "output_type": "display_data",
          "data": {
            "text/plain": [
              "<Figure size 640x480 with 1 Axes>"
            ],
            "image/png": "[encoded data removed]"
          },
          "metadata": {}
        }
      ]
    },
    {
      "cell_type": "code",
      "source": [
        "u[['a', 'b']].plot(x='a', y='b', kind = 'line')"
      ],
      "metadata": {
        "colab": {
          "base_uri": "https://localhost:8080/",
          "height": 467
        },
        "id": "PgOTpuz92saj",
        "outputId": "5211ac1f-06e3-446b-9595-03088dcf6316"
      },
      "execution_count": null,
      "outputs": [
        {
          "output_type": "execute_result",
          "data": {
            "text/plain": [
              "<Axes: xlabel='a'>"
            ]
          },
          "metadata": {},
          "execution_count": 31
        },
        {
          "output_type": "display_data",
          "data": {
            "text/plain": [
              "<Figure size 640x480 with 1 Axes>"
            ],
            "image/png": "[encoded data removed]"
          },
          "metadata": {}
        }
      ]
    },
    {
      "cell_type": "markdown",
      "source": [
        "splitting code"
      ],
      "metadata": {
        "id": "SdGOaE5R3uxw"
      }
    },
    {
      "cell_type": "code",
      "source": [
        "r.shape"
      ],
      "metadata": {
        "colab": {
          "base_uri": "https://localhost:8080/"
        },
        "id": "RSI3RkQ33DO9",
        "outputId": "eed83451-2d0d-4ec7-d479-2af6f2361e1c"
      },
      "execution_count": null,
      "outputs": [
        {
          "output_type": "execute_result",
          "data": {
            "text/plain": [
              "(40, 5)"
            ]
          },
          "metadata": {},
          "execution_count": 32
        }
      ]
    },
    {
      "cell_type": "code",
      "source": [
        "u.shape"
      ],
      "metadata": {
        "colab": {
          "base_uri": "https://localhost:8080/"
        },
        "id": "0Z3otm3b3TP1",
        "outputId": "90a02e72-835d-4f68-cd0f-56242d7c9756"
      },
      "execution_count": null,
      "outputs": [
        {
          "output_type": "execute_result",
          "data": {
            "text/plain": [
              "(40, 5)"
            ]
          },
          "metadata": {},
          "execution_count": 33
        }
      ]
    },
    {
      "cell_type": "code",
      "source": [
        "r[:5,:3]"
      ],
      "metadata": {
        "colab": {
          "base_uri": "https://localhost:8080/"
        },
        "id": "-p00kTiX3VVk",
        "outputId": "19be0594-9e5a-4aa1-a2d3-9e8c70351a7a"
      },
      "execution_count": null,
      "outputs": [
        {
          "output_type": "execute_result",
          "data": {
            "text/plain": [
              "array([[4.35, 5.19, 5.31],\n",
              "       [3.78, 4.54, 4.76],\n",
              "       [4.76, 4.78, 4.68],\n",
              "       [4.43, 5.11, 4.12],\n",
              "       [4.61, 5.44, 3.47]])"
            ]
          },
          "metadata": {},
          "execution_count": 34
        }
      ]
    },
    {
      "cell_type": "code",
      "source": [
        "u.iloc[:5,:3]"
      ],
      "metadata": {
        "colab": {
          "base_uri": "https://localhost:8080/",
          "height": 206
        },
        "id": "NvY3YGjA3jSw",
        "outputId": "12422074-cc81-482f-f2d3-e68781e3ebb3"
      },
      "execution_count": null,
      "outputs": [
        {
          "output_type": "execute_result",
          "data": {
            "text/plain": [
              "      a     b     c\n",
              "0  4.35  5.19  5.31\n",
              "1  3.78  4.54  4.76\n",
              "2  4.76  4.78  4.68\n",
              "3  4.43  5.11  4.12\n",
              "4  4.61  5.44  3.47"
            ],
            "text/html": [
              "\n",
              "  <div id=\"df-d9d24a39-2456-4ae1-824d-b59928ec3c68\" class=\"colab-df-container\">\n",
              "    <div>\n",
              "<style scoped>\n",
              "    .dataframe tbody tr th:only-of-type {\n",
              "        vertical-align: middle;\n",
              "    }\n",
              "\n",
              "    .dataframe tbody tr th {\n",
              "        vertical-align: top;\n",
              "    }\n",
              "\n",
              "    .dataframe thead th {\n",
              "        text-align: right;\n",
              "    }\n",
              "</style>\n",
              "<table border=\"1\" class=\"dataframe\">\n",
              "  <thead>\n",
              "    <tr style=\"text-align: right;\">\n",
              "      <th></th>\n",
              "      <th>a</th>\n",
              "      <th>b</th>\n",
              "      <th>c</th>\n",
              "    </tr>\n",
              "  </thead>\n",
              "  <tbody>\n",
              "    <tr>\n",
              "      <th>0</th>\n",
              "      <td>4.35</td>\n",
              "      <td>5.19</td>\n",
              "      <td>5.31</td>\n",
              "    </tr>\n",
              "    <tr>\n",
              "      <th>1</th>\n",
              "      <td>3.78</td>\n",
              "      <td>4.54</td>\n",
              "      <td>4.76</td>\n",
              "    </tr>\n",
              "    <tr>\n",
              "      <th>2</th>\n",
              "      <td>4.76</td>\n",
              "      <td>4.78</td>\n",
              "      <td>4.68</td>\n",
              "    </tr>\n",
              "    <tr>\n",
              "      <th>3</th>\n",
              "      <td>4.43</td>\n",
              "      <td>5.11</td>\n",
              "      <td>4.12</td>\n",
              "    </tr>\n",
              "    <tr>\n",
              "      <th>4</th>\n",
              "      <td>4.61</td>\n",
              "      <td>5.44</td>\n",
              "      <td>3.47</td>\n",
              "    </tr>\n",
              "  </tbody>\n",
              "</table>\n",
              "</div>\n",
              "    <div class=\"colab-df-buttons\">\n",
              "\n",
              "  <div class=\"colab-df-container\">\n",
              "    <button class=\"colab-df-convert\" onclick=\"convertToInteractive('df-d9d24a39-2456-4ae1-824d-b59928ec3c68')\"\n",
              "            title=\"Convert this dataframe to an interactive table.\"\n",
              "            style=\"display:none;\">\n",
              "\n",
              "  <svg xmlns=\"http://www.w3.org/2000/svg\" height=\"24px\" viewBox=\"0 -960 960 960\">\n",
              "    <path d=\"M120-120v-720h720v720H120Zm60-500h600v-160H180v160Zm220 220h160v-160H400v160Zm0 220h160v-160H400v160ZM180-400h160v-160H180v160Zm440 0h160v-160H620v160ZM180-180h160v-160H180v160Zm440 0h160v-160H620v160Z\"/>\n",
              "  </svg>\n",
              "    </button>\n",
              "\n",
              "  <style>\n",
              "    .colab-df-container {\n",
              "      display:flex;\n",
              "      gap: 12px;\n",
              "    }\n",
              "\n",
              "    .colab-df-convert {\n",
              "      background-color: #E8F0FE;\n",
              "      border: none;\n",
              "      border-radius: 50%;\n",
              "      cursor: pointer;\n",
              "      display: none;\n",
              "      fill: #1967D2;\n",
              "      height: 32px;\n",
              "      padding: 0 0 0 0;\n",
              "      width: 32px;\n",
              "    }\n",
              "\n",
              "    .colab-df-convert:hover {\n",
              "      background-color: #E2EBFA;\n",
              "      box-shadow: 0px 1px 2px rgba(60, 64, 67, 0.3), 0px 1px 3px 1px rgba(60, 64, 67, 0.15);\n",
              "      fill: #174EA6;\n",
              "    }\n",
              "\n",
              "    .colab-df-buttons div {\n",
              "      margin-bottom: 4px;\n",
              "    }\n",
              "\n",
              "    [theme=dark] .colab-df-convert {\n",
              "      background-color: #3B4455;\n",
              "      fill: #D2E3FC;\n",
              "    }\n",
              "\n",
              "    [theme=dark] .colab-df-convert:hover {\n",
              "      background-color: #434B5C;\n",
              "      box-shadow: 0px 1px 3px 1px rgba(0, 0, 0, 0.15);\n",
              "      filter: drop-shadow(0px 1px 2px rgba(0, 0, 0, 0.3));\n",
              "      fill: #FFFFFF;\n",
              "    }\n",
              "  </style>\n",
              "\n",
              "    <script>\n",
              "      const buttonEl =\n",
              "        document.querySelector('#df-d9d24a39-2456-4ae1-824d-b59928ec3c68 button.colab-df-convert');\n",
              "      buttonEl.style.display =\n",
              "        google.colab.kernel.accessAllowed ? 'block' : 'none';\n",
              "\n",
              "      async function convertToInteractive(key) {\n",
              "        const element = document.querySelector('#df-d9d24a39-2456-4ae1-824d-b59928ec3c68');\n",
              "        const dataTable =\n",
              "          await google.colab.kernel.invokeFunction('convertToInteractive',\n",
              "                                                    [key], {});\n",
              "        if (!dataTable) return;\n",
              "\n",
              "        const docLinkHtml = 'Like what you see? Visit the ' +\n",
              "          '<a target=\"_blank\" href=https://colab.research.google.com/notebooks/data_table.ipynb>data table notebook</a>'\n",
              "          + ' to learn more about interactive tables.';\n",
              "        element.innerHTML = '';\n",
              "        dataTable['output_type'] = 'display_data';\n",
              "        await google.colab.output.renderOutput(dataTable, element);\n",
              "        const docLink = document.createElement('div');\n",
              "        docLink.innerHTML = docLinkHtml;\n",
              "        element.appendChild(docLink);\n",
              "      }\n",
              "    </script>\n",
              "  </div>\n",
              "\n",
              "\n",
              "<div id=\"df-cebec699-3616-433b-ac9b-d86a51340056\">\n",
              "  <button class=\"colab-df-quickchart\" onclick=\"quickchart('df-cebec699-3616-433b-ac9b-d86a51340056')\"\n",
              "            title=\"Suggest charts\"\n",
              "            style=\"display:none;\">\n",
              "\n",
              "<svg xmlns=\"http://www.w3.org/2000/svg\" height=\"24px\"viewBox=\"0 0 24 24\"\n",
              "     width=\"24px\">\n",
              "    <g>\n",
              "        <path d=\"M19 3H5c-1.1 0-2 .9-2 2v14c0 1.1.9 2 2 2h14c1.1 0 2-.9 2-2V5c0-1.1-.9-2-2-2zM9 17H7v-7h2v7zm4 0h-2V7h2v10zm4 0h-2v-4h2v4z\"/>\n",
              "    </g>\n",
              "</svg>\n",
              "  </button>\n",
              "\n",
              "<style>\n",
              "  .colab-df-quickchart {\n",
              "      --bg-color: #E8F0FE;\n",
              "      --fill-color: #1967D2;\n",
              "      --hover-bg-color: #E2EBFA;\n",
              "      --hover-fill-color: #174EA6;\n",
              "      --disabled-fill-color: #AAA;\n",
              "      --disabled-bg-color: #DDD;\n",
              "  }\n",
              "\n",
              "  [theme=dark] .colab-df-quickchart {\n",
              "      --bg-color: #3B4455;\n",
              "      --fill-color: #D2E3FC;\n",
              "      --hover-bg-color: #434B5C;\n",
              "      --hover-fill-color: #FFFFFF;\n",
              "      --disabled-bg-color: #3B4455;\n",
              "      --disabled-fill-color: #666;\n",
              "  }\n",
              "\n",
              "  .colab-df-quickchart {\n",
              "    background-color: var(--bg-color);\n",
              "    border: none;\n",
              "    border-radius: 50%;\n",
              "    cursor: pointer;\n",
              "    display: none;\n",
              "    fill: var(--fill-color);\n",
              "    height: 32px;\n",
              "    padding: 0;\n",
              "    width: 32px;\n",
              "  }\n",
              "\n",
              "  .colab-df-quickchart:hover {\n",
              "    background-color: var(--hover-bg-color);\n",
              "    box-shadow: 0 1px 2px rgba(60, 64, 67, 0.3), 0 1px 3px 1px rgba(60, 64, 67, 0.15);\n",
              "    fill: var(--button-hover-fill-color);\n",
              "  }\n",
              "\n",
              "  .colab-df-quickchart-complete:disabled,\n",
              "  .colab-df-quickchart-complete:disabled:hover {\n",
              "    background-color: var(--disabled-bg-color);\n",
              "    fill: var(--disabled-fill-color);\n",
              "    box-shadow: none;\n",
              "  }\n",
              "\n",
              "  .colab-df-spinner {\n",
              "    border: 2px solid var(--fill-color);\n",
              "    border-color: transparent;\n",
              "    border-bottom-color: var(--fill-color);\n",
              "    animation:\n",
              "      spin 1s steps(1) infinite;\n",
              "  }\n",
              "\n",
              "  @keyframes spin {\n",
              "    0% {\n",
              "      border-color: transparent;\n",
              "      border-bottom-color: var(--fill-color);\n",
              "      border-left-color: var(--fill-color);\n",
              "    }\n",
              "    20% {\n",
              "      border-color: transparent;\n",
              "      border-left-color: var(--fill-color);\n",
              "      border-top-color: var(--fill-color);\n",
              "    }\n",
              "    30% {\n",
              "      border-color: transparent;\n",
              "      border-left-color: var(--fill-color);\n",
              "      border-top-color: var(--fill-color);\n",
              "      border-right-color: var(--fill-color);\n",
              "    }\n",
              "    40% {\n",
              "      border-color: transparent;\n",
              "      border-right-color: var(--fill-color);\n",
              "      border-top-color: var(--fill-color);\n",
              "    }\n",
              "    60% {\n",
              "      border-color: transparent;\n",
              "      border-right-color: var(--fill-color);\n",
              "    }\n",
              "    80% {\n",
              "      border-color: transparent;\n",
              "      border-right-color: var(--fill-color);\n",
              "      border-bottom-color: var(--fill-color);\n",
              "    }\n",
              "    90% {\n",
              "      border-color: transparent;\n",
              "      border-bottom-color: var(--fill-color);\n",
              "    }\n",
              "  }\n",
              "</style>\n",
              "\n",
              "  <script>\n",
              "    async function quickchart(key) {\n",
              "      const quickchartButtonEl =\n",
              "        document.querySelector('#' + key + ' button');\n",
              "      quickchartButtonEl.disabled = true;  // To prevent multiple clicks.\n",
              "      quickchartButtonEl.classList.add('colab-df-spinner');\n",
              "      try {\n",
              "        const charts = await google.colab.kernel.invokeFunction(\n",
              "            'suggestCharts', [key], {});\n",
              "      } catch (error) {\n",
              "        console.error('Error during call to suggestCharts:', error);\n",
              "      }\n",
              "      quickchartButtonEl.classList.remove('colab-df-spinner');\n",
              "      quickchartButtonEl.classList.add('colab-df-quickchart-complete');\n",
              "    }\n",
              "    (() => {\n",
              "      let quickchartButtonEl =\n",
              "        document.querySelector('#df-cebec699-3616-433b-ac9b-d86a51340056 button');\n",
              "      quickchartButtonEl.style.display =\n",
              "        google.colab.kernel.accessAllowed ? 'block' : 'none';\n",
              "    })();\n",
              "  </script>\n",
              "</div>\n",
              "\n",
              "    </div>\n",
              "  </div>\n"
            ],
            "application/vnd.google.colaboratory.intrinsic+json": {
              "type": "dataframe",
              "summary": "{\n  \"name\": \"u\",\n  \"rows\": 5,\n  \"fields\": [\n    {\n      \"column\": \"a\",\n      \"properties\": {\n        \"dtype\": \"number\",\n        \"std\": 0.3743394181755377,\n        \"min\": 3.78,\n        \"max\": 4.76,\n        \"num_unique_values\": 5,\n        \"samples\": [\n          3.78,\n          4.61,\n          4.76\n        ],\n        \"semantic_type\": \"\",\n        \"description\": \"\"\n      }\n    },\n    {\n      \"column\": \"b\",\n      \"properties\": {\n        \"dtype\": \"number\",\n        \"std\": 0.3539350222851648,\n        \"min\": 4.54,\n        \"max\": 5.44,\n        \"num_unique_values\": 5,\n        \"samples\": [\n          4.54,\n          5.44,\n          4.78\n        ],\n        \"semantic_type\": \"\",\n        \"description\": \"\"\n      }\n    },\n    {\n      \"column\": \"c\",\n      \"properties\": {\n        \"dtype\": \"number\",\n        \"std\": 0.6993353987894504,\n        \"min\": 3.47,\n        \"max\": 5.31,\n        \"num_unique_values\": 5,\n        \"samples\": [\n          4.76,\n          3.47,\n          4.68\n        ],\n        \"semantic_type\": \"\",\n        \"description\": \"\"\n      }\n    }\n  ]\n}"
            }
          },
          "metadata": {},
          "execution_count": 35
        }
      ]
    },
    {
      "cell_type": "code",
      "source": [
        "r.mean()"
      ],
      "metadata": {
        "colab": {
          "base_uri": "https://localhost:8080/"
        },
        "id": "y-C_CAjR3pvv",
        "outputId": "3ed5cd36-6b36-4b7d-c60a-20b407e2b9d9"
      },
      "execution_count": null,
      "outputs": [
        {
          "output_type": "execute_result",
          "data": {
            "text/plain": [
              "4.840700000000001"
            ]
          },
          "metadata": {},
          "execution_count": 40
        }
      ]
    },
    {
      "cell_type": "markdown",
      "source": [
        "comparing the means of two columns if they are significantly different or not"
      ],
      "metadata": {
        "id": "L4OQalFh3xxQ"
      }
    },
    {
      "cell_type": "code",
      "source": [
        "# prompt: In Numpy array 'r', test the hypothesis that means for first two columns are significantly different\n",
        "\n",
        "import scipy.stats as stats\n",
        "\n",
        "# Extract the first two columns of r\n",
        "col1 = r[:, 0]\n",
        "col2 = r[:, 1]\n",
        "\n",
        "# Perform a two-sample t-test to compare the means\n",
        "t_statistic, p_value = stats.ttest_ind(col1, col2)\n",
        "\n",
        "# Set the significance level\n",
        "alpha = 0.05\n",
        "\n",
        "# Interpret the results\n",
        "if p_value < alpha:\n",
        "    print(\"Reject the null hypothesis: Means are significantly different.\")\n",
        "else:\n",
        "    print(\"Fail to reject the null hypothesis: Means are not significantly different.\")\n"
      ],
      "metadata": {
        "colab": {
          "base_uri": "https://localhost:8080/"
        },
        "id": "8dTYrBkm37iC",
        "outputId": "9734e75e-35e5-4635-957d-9015c1be1f88"
      },
      "execution_count": null,
      "outputs": [
        {
          "output_type": "stream",
          "name": "stdout",
          "text": [
            "Fail to reject the null hypothesis: Means are not significantly different.\n"
          ]
        }
      ]
    },
    {
      "cell_type": "code",
      "source": [
        "# prompt: In numpy array 'r', find correlation between first two columns\n",
        "\n",
        "import numpy as np\n",
        "\n",
        "# Extract the first two columns of r\n",
        "col1 = r[:, 0]\n",
        "col2 = r[:, 1]\n",
        "\n",
        "# Calculate the correlation coefficient\n",
        "correlation = np.corrcoef(col1, col2)[0, 1]\n",
        "\n",
        "# Print the correlation coefficient\n",
        "print(\"Correlation between first two columns:\", correlation)\n"
      ],
      "metadata": {
        "colab": {
          "base_uri": "https://localhost:8080/"
        },
        "id": "99crQWGj4lNL",
        "outputId": "c3ecb0f7-6e04-4cac-c8e3-4696c42be94f"
      },
      "execution_count": null,
      "outputs": [
        {
          "output_type": "stream",
          "name": "stdout",
          "text": [
            "Correlation between first two columns: 0.10979734085530668\n"
          ]
        }
      ]
    },
    {
      "cell_type": "code",
      "source": [
        "# prompt: in Numpy array 'r', write a code for calculating correlation between all the columns and then plot it\n",
        "\n",
        "import numpy as np\n",
        "\n",
        "# Calculate the correlation matrix of all columns in 'r'\n",
        "correlation_matrix = np.corrcoef(r.T)\n",
        "\n",
        "# Print the correlation matrix\n",
        "print(\"Correlation matrix:\\n\", correlation_matrix)\n",
        "\n",
        "# Plot the correlation matrix as a heatmap\n",
        "import matplotlib.pyplot as plt\n",
        "\n",
        "plt.imshow(correlation_matrix, cmap=\"hot\")\n",
        "plt.colorbar()\n",
        "plt.show()\n"
      ],
      "metadata": {
        "colab": {
          "base_uri": "https://localhost:8080/",
          "height": 583
        },
        "id": "6Uj6Zw-j45-f",
        "outputId": "045bfb8a-697c-4536-9e27-41f516b99314"
      },
      "execution_count": null,
      "outputs": [
        {
          "output_type": "stream",
          "name": "stdout",
          "text": [
            "Correlation matrix:\n",
            " [[ 1.          0.10979734 -0.05860427 -0.15232851  0.0458876 ]\n",
            " [ 0.10979734  1.         -0.10884388 -0.02994223  0.03210657]\n",
            " [-0.05860427 -0.10884388  1.         -0.06495625  0.28105709]\n",
            " [-0.15232851 -0.02994223 -0.06495625  1.          0.09928288]\n",
            " [ 0.0458876   0.03210657  0.28105709  0.09928288  1.        ]]\n"
          ]
        },
        {
          "output_type": "execute_result",
          "data": {
            "text/plain": [
              "<matplotlib.image.AxesImage at 0x7d7ac6468400>"
            ]
          },
          "metadata": {},
          "execution_count": 38
        },
        {
          "output_type": "execute_result",
          "data": {
            "text/plain": [
              "<matplotlib.colorbar.Colorbar at 0x7d7ac64b9390>"
            ]
          },
          "metadata": {},
          "execution_count": 38
        },
        {
          "output_type": "display_data",
          "data": {
            "text/plain": [
              "<Figure size 640x480 with 2 Axes>"
            ],
            "image/png": "[encoded data removed]"
          },
          "metadata": {}
        }
      ]
    },
    {
      "cell_type": "code",
      "source": [
        "r.mean()"
      ],
      "metadata": {
        "colab": {
          "base_uri": "https://localhost:8080/"
        },
        "id": "H4jQWEh78b0-",
        "outputId": "ec37b60d-c879-41e2-8f14-5a54236ac80f"
      },
      "execution_count": null,
      "outputs": [
        {
          "output_type": "execute_result",
          "data": {
            "text/plain": [
              "4.840700000000001"
            ]
          },
          "metadata": {},
          "execution_count": 39
        }
      ]
    },
    {
      "cell_type": "code",
      "source": [
        "u"
      ],
      "metadata": {
        "colab": {
          "base_uri": "https://localhost:8080/",
          "height": 1000
        },
        "id": "wRDZIg-n8deI",
        "outputId": "14230e07-a0e3-4cf1-8a32-6767d9f0dc59"
      },
      "execution_count": null,
      "outputs": [
        {
          "output_type": "execute_result",
          "data": {
            "text/plain": [
              "       a     b     c     d     e\n",
              "0   4.35  5.19  5.31  6.27  4.40\n",
              "1   3.78  4.54  4.76  6.17  4.54\n",
              "2   4.76  4.78  4.68  5.25  3.13\n",
              "3   4.43  5.11  4.12  5.02  2.70\n",
              "4   4.61  5.44  3.47  3.66  4.15\n",
              "5   5.17  5.08  3.36  5.40  4.96\n",
              "6   5.76  5.50  4.03  5.49  5.13\n",
              "7   5.90  3.94  4.00  6.68  4.39\n",
              "8   5.33  4.08  3.71  7.35  6.15\n",
              "9   5.21  2.87  5.17  6.48  3.92\n",
              "10  4.00  6.41  4.90  5.53  6.05\n",
              "11  3.03  5.03  5.11  4.71  4.53\n",
              "12  4.46  6.96  5.35  5.14  5.95\n",
              "13  4.91  4.87  4.52  4.14  4.07\n",
              "14  4.17  4.39  2.96  6.21  4.44\n",
              "15  5.93  3.95  4.36  5.36  5.42\n",
              "16  4.99  5.19  4.65  5.34  4.13\n",
              "17  6.20  5.08  5.07  4.97  6.20\n",
              "18  5.48  6.36  5.02  4.72  5.38\n",
              "19  6.71  4.79  5.34  2.75  5.67\n",
              "20  5.53  5.12  4.48  4.42  5.57\n",
              "21  4.17  4.55  5.10  3.21  4.32\n",
              "22  5.47  4.19  6.70  3.97  5.23\n",
              "23  5.16  3.38  3.72  4.60  4.72\n",
              "24  3.43  3.75  4.69  5.06  5.12\n",
              "25  4.87  4.88  4.10  4.07  3.75\n",
              "26  4.19  4.52  4.78  5.40  5.75\n",
              "27  3.78  3.18  7.37  6.90  5.94\n",
              "28  5.54  5.05  4.45  6.45  5.61\n",
              "29  5.60  3.90  5.44  3.81  3.94\n",
              "30  4.49  6.61  4.54  4.36  4.16\n",
              "31  5.22  4.14  3.36  4.53  4.56\n",
              "32  6.46  7.08  5.92  5.21  5.74\n",
              "33  4.80  6.15  3.01  5.49  4.47\n",
              "34  5.88  3.87  4.79  4.47  5.57\n",
              "35  6.88  4.37  5.25  4.02  4.14\n",
              "36  5.98  3.98  4.59  3.21  4.30\n",
              "37  2.65  3.61  4.74  3.70  5.72\n",
              "38  3.20  3.15  5.95  4.76  5.88\n",
              "39  5.52  4.22  4.26  3.38  6.29"
            ],
            "text/html": [
              "\n",
              "  <div id=\"df-8019f27a-2002-4fb6-b9e5-296681e367f4\" class=\"colab-df-container\">\n",
              "    <div>\n",
              "<style scoped>\n",
              "    .dataframe tbody tr th:only-of-type {\n",
              "        vertical-align: middle;\n",
              "    }\n",
              "\n",
              "    .dataframe tbody tr th {\n",
              "        vertical-align: top;\n",
              "    }\n",
              "\n",
              "    .dataframe thead th {\n",
              "        text-align: right;\n",
              "    }\n",
              "</style>\n",
              "<table border=\"1\" class=\"dataframe\">\n",
              "  <thead>\n",
              "    <tr style=\"text-align: right;\">\n",
              "      <th></th>\n",
              "      <th>a</th>\n",
              "      <th>b</th>\n",
              "      <th>c</th>\n",
              "      <th>d</th>\n",
              "      <th>e</th>\n",
              "    </tr>\n",
              "  </thead>\n",
              "  <tbody>\n",
              "    <tr>\n",
              "      <th>0</th>\n",
              "      <td>4.35</td>\n",
              "      <td>5.19</td>\n",
              "      <td>5.31</td>\n",
              "      <td>6.27</td>\n",
              "      <td>4.40</td>\n",
              "    </tr>\n",
              "    <tr>\n",
              "      <th>1</th>\n",
              "      <td>3.78</td>\n",
              "      <td>4.54</td>\n",
              "      <td>4.76</td>\n",
              "      <td>6.17</td>\n",
              "      <td>4.54</td>\n",
              "    </tr>\n",
              "    <tr>\n",
              "      <th>2</th>\n",
              "      <td>4.76</td>\n",
              "      <td>4.78</td>\n",
              "      <td>4.68</td>\n",
              "      <td>5.25</td>\n",
              "      <td>3.13</td>\n",
              "    </tr>\n",
              "    <tr>\n",
              "      <th>3</th>\n",
              "      <td>4.43</td>\n",
              "      <td>5.11</td>\n",
              "      <td>4.12</td>\n",
              "      <td>5.02</td>\n",
              "      <td>2.70</td>\n",
              "    </tr>\n",
              "    <tr>\n",
              "      <th>4</th>\n",
              "      <td>4.61</td>\n",
              "      <td>5.44</td>\n",
              "      <td>3.47</td>\n",
              "      <td>3.66</td>\n",
              "      <td>4.15</td>\n",
              "    </tr>\n",
              "    <tr>\n",
              "      <th>5</th>\n",
              "      <td>5.17</td>\n",
              "      <td>5.08</td>\n",
              "      <td>3.36</td>\n",
              "      <td>5.40</td>\n",
              "      <td>4.96</td>\n",
              "    </tr>\n",
              "    <tr>\n",
              "      <th>6</th>\n",
              "      <td>5.76</td>\n",
              "      <td>5.50</td>\n",
              "      <td>4.03</td>\n",
              "      <td>5.49</td>\n",
              "      <td>5.13</td>\n",
              "    </tr>\n",
              "    <tr>\n",
              "      <th>7</th>\n",
              "      <td>5.90</td>\n",
              "      <td>3.94</td>\n",
              "      <td>4.00</td>\n",
              "      <td>6.68</td>\n",
              "      <td>4.39</td>\n",
              "    </tr>\n",
              "    <tr>\n",
              "      <th>8</th>\n",
              "      <td>5.33</td>\n",
              "      <td>4.08</td>\n",
              "      <td>3.71</td>\n",
              "      <td>7.35</td>\n",
              "      <td>6.15</td>\n",
              "    </tr>\n",
              "    <tr>\n",
              "      <th>9</th>\n",
              "      <td>5.21</td>\n",
              "      <td>2.87</td>\n",
              "      <td>5.17</td>\n",
              "      <td>6.48</td>\n",
              "      <td>3.92</td>\n",
              "    </tr>\n",
              "    <tr>\n",
              "      <th>10</th>\n",
              "      <td>4.00</td>\n",
              "      <td>6.41</td>\n",
              "      <td>4.90</td>\n",
              "      <td>5.53</td>\n",
              "      <td>6.05</td>\n",
              "    </tr>\n",
              "    <tr>\n",
              "      <th>11</th>\n",
              "      <td>3.03</td>\n",
              "      <td>5.03</td>\n",
              "      <td>5.11</td>\n",
              "      <td>4.71</td>\n",
              "      <td>4.53</td>\n",
              "    </tr>\n",
              "    <tr>\n",
              "      <th>12</th>\n",
              "      <td>4.46</td>\n",
              "      <td>6.96</td>\n",
              "      <td>5.35</td>\n",
              "      <td>5.14</td>\n",
              "      <td>5.95</td>\n",
              "    </tr>\n",
              "    <tr>\n",
              "      <th>13</th>\n",
              "      <td>4.91</td>\n",
              "      <td>4.87</td>\n",
              "      <td>4.52</td>\n",
              "      <td>4.14</td>\n",
              "      <td>4.07</td>\n",
              "    </tr>\n",
              "    <tr>\n",
              "      <th>14</th>\n",
              "      <td>4.17</td>\n",
              "      <td>4.39</td>\n",
              "      <td>2.96</td>\n",
              "      <td>6.21</td>\n",
              "      <td>4.44</td>\n",
              "    </tr>\n",
              "    <tr>\n",
              "      <th>15</th>\n",
              "      <td>5.93</td>\n",
              "      <td>3.95</td>\n",
              "      <td>4.36</td>\n",
              "      <td>5.36</td>\n",
              "      <td>5.42</td>\n",
              "    </tr>\n",
              "    <tr>\n",
              "      <th>16</th>\n",
              "      <td>4.99</td>\n",
              "      <td>5.19</td>\n",
              "      <td>4.65</td>\n",
              "      <td>5.34</td>\n",
              "      <td>4.13</td>\n",
              "    </tr>\n",
              "    <tr>\n",
              "      <th>17</th>\n",
              "      <td>6.20</td>\n",
              "      <td>5.08</td>\n",
              "      <td>5.07</td>\n",
              "      <td>4.97</td>\n",
              "      <td>6.20</td>\n",
              "    </tr>\n",
              "    <tr>\n",
              "      <th>18</th>\n",
              "      <td>5.48</td>\n",
              "      <td>6.36</td>\n",
              "      <td>5.02</td>\n",
              "      <td>4.72</td>\n",
              "      <td>5.38</td>\n",
              "    </tr>\n",
              "    <tr>\n",
              "      <th>19</th>\n",
              "      <td>6.71</td>\n",
              "      <td>4.79</td>\n",
              "      <td>5.34</td>\n",
              "      <td>2.75</td>\n",
              "      <td>5.67</td>\n",
              "    </tr>\n",
              "    <tr>\n",
              "      <th>20</th>\n",
              "      <td>5.53</td>\n",
              "      <td>5.12</td>\n",
              "      <td>4.48</td>\n",
              "      <td>4.42</td>\n",
              "      <td>5.57</td>\n",
              "    </tr>\n",
              "    <tr>\n",
              "      <th>21</th>\n",
              "      <td>4.17</td>\n",
              "      <td>4.55</td>\n",
              "      <td>5.10</td>\n",
              "      <td>3.21</td>\n",
              "      <td>4.32</td>\n",
              "    </tr>\n",
              "    <tr>\n",
              "      <th>22</th>\n",
              "      <td>5.47</td>\n",
              "      <td>4.19</td>\n",
              "      <td>6.70</td>\n",
              "      <td>3.97</td>\n",
              "      <td>5.23</td>\n",
              "    </tr>\n",
              "    <tr>\n",
              "      <th>23</th>\n",
              "      <td>5.16</td>\n",
              "      <td>3.38</td>\n",
              "      <td>3.72</td>\n",
              "      <td>4.60</td>\n",
              "      <td>4.72</td>\n",
              "    </tr>\n",
              "    <tr>\n",
              "      <th>24</th>\n",
              "      <td>3.43</td>\n",
              "      <td>3.75</td>\n",
              "      <td>4.69</td>\n",
              "      <td>5.06</td>\n",
              "      <td>5.12</td>\n",
              "    </tr>\n",
              "    <tr>\n",
              "      <th>25</th>\n",
              "      <td>4.87</td>\n",
              "      <td>4.88</td>\n",
              "      <td>4.10</td>\n",
              "      <td>4.07</td>\n",
              "      <td>3.75</td>\n",
              "    </tr>\n",
              "    <tr>\n",
              "      <th>26</th>\n",
              "      <td>4.19</td>\n",
              "      <td>4.52</td>\n",
              "      <td>4.78</td>\n",
              "      <td>5.40</td>\n",
              "      <td>5.75</td>\n",
              "    </tr>\n",
              "    <tr>\n",
              "      <th>27</th>\n",
              "      <td>3.78</td>\n",
              "      <td>3.18</td>\n",
              "      <td>7.37</td>\n",
              "      <td>6.90</td>\n",
              "      <td>5.94</td>\n",
              "    </tr>\n",
              "    <tr>\n",
              "      <th>28</th>\n",
              "      <td>5.54</td>\n",
              "      <td>5.05</td>\n",
              "      <td>4.45</td>\n",
              "      <td>6.45</td>\n",
              "      <td>5.61</td>\n",
              "    </tr>\n",
              "    <tr>\n",
              "      <th>29</th>\n",
              "      <td>5.60</td>\n",
              "      <td>3.90</td>\n",
              "      <td>5.44</td>\n",
              "      <td>3.81</td>\n",
              "      <td>3.94</td>\n",
              "    </tr>\n",
              "    <tr>\n",
              "      <th>30</th>\n",
              "      <td>4.49</td>\n",
              "      <td>6.61</td>\n",
              "      <td>4.54</td>\n",
              "      <td>4.36</td>\n",
              "      <td>4.16</td>\n",
              "    </tr>\n",
              "    <tr>\n",
              "      <th>31</th>\n",
              "      <td>5.22</td>\n",
              "      <td>4.14</td>\n",
              "      <td>3.36</td>\n",
              "      <td>4.53</td>\n",
              "      <td>4.56</td>\n",
              "    </tr>\n",
              "    <tr>\n",
              "      <th>32</th>\n",
              "      <td>6.46</td>\n",
              "      <td>7.08</td>\n",
              "      <td>5.92</td>\n",
              "      <td>5.21</td>\n",
              "      <td>5.74</td>\n",
              "    </tr>\n",
              "    <tr>\n",
              "      <th>33</th>\n",
              "      <td>4.80</td>\n",
              "      <td>6.15</td>\n",
              "      <td>3.01</td>\n",
              "      <td>5.49</td>\n",
              "      <td>4.47</td>\n",
              "    </tr>\n",
              "    <tr>\n",
              "      <th>34</th>\n",
              "      <td>5.88</td>\n",
              "      <td>3.87</td>\n",
              "      <td>4.79</td>\n",
              "      <td>4.47</td>\n",
              "      <td>5.57</td>\n",
              "    </tr>\n",
              "    <tr>\n",
              "      <th>35</th>\n",
              "      <td>6.88</td>\n",
              "      <td>4.37</td>\n",
              "      <td>5.25</td>\n",
              "      <td>4.02</td>\n",
              "      <td>4.14</td>\n",
              "    </tr>\n",
              "    <tr>\n",
              "      <th>36</th>\n",
              "      <td>5.98</td>\n",
              "      <td>3.98</td>\n",
              "      <td>4.59</td>\n",
              "      <td>3.21</td>\n",
              "      <td>4.30</td>\n",
              "    </tr>\n",
              "    <tr>\n",
              "      <th>37</th>\n",
              "      <td>2.65</td>\n",
              "      <td>3.61</td>\n",
              "      <td>4.74</td>\n",
              "      <td>3.70</td>\n",
              "      <td>5.72</td>\n",
              "    </tr>\n",
              "    <tr>\n",
              "      <th>38</th>\n",
              "      <td>3.20</td>\n",
              "      <td>3.15</td>\n",
              "      <td>5.95</td>\n",
              "      <td>4.76</td>\n",
              "      <td>5.88</td>\n",
              "    </tr>\n",
              "    <tr>\n",
              "      <th>39</th>\n",
              "      <td>5.52</td>\n",
              "      <td>4.22</td>\n",
              "      <td>4.26</td>\n",
              "      <td>3.38</td>\n",
              "      <td>6.29</td>\n",
              "    </tr>\n",
              "  </tbody>\n",
              "</table>\n",
              "</div>\n",
              "    <div class=\"colab-df-buttons\">\n",
              "\n",
              "  <div class=\"colab-df-container\">\n",
              "    <button class=\"colab-df-convert\" onclick=\"convertToInteractive('df-8019f27a-2002-4fb6-b9e5-296681e367f4')\"\n",
              "            title=\"Convert this dataframe to an interactive table.\"\n",
              "            style=\"display:none;\">\n",
              "\n",
              "  <svg xmlns=\"http://www.w3.org/2000/svg\" height=\"24px\" viewBox=\"0 -960 960 960\">\n",
              "    <path d=\"M120-120v-720h720v720H120Zm60-500h600v-160H180v160Zm220 220h160v-160H400v160Zm0 220h160v-160H400v160ZM180-400h160v-160H180v160Zm440 0h160v-160H620v160ZM180-180h160v-160H180v160Zm440 0h160v-160H620v160Z\"/>\n",
              "  </svg>\n",
              "    </button>\n",
              "\n",
              "  <style>\n",
              "    .colab-df-container {\n",
              "      display:flex;\n",
              "      gap: 12px;\n",
              "    }\n",
              "\n",
              "    .colab-df-convert {\n",
              "      background-color: #E8F0FE;\n",
              "      border: none;\n",
              "      border-radius: 50%;\n",
              "      cursor: pointer;\n",
              "      display: none;\n",
              "      fill: #1967D2;\n",
              "      height: 32px;\n",
              "      padding: 0 0 0 0;\n",
              "      width: 32px;\n",
              "    }\n",
              "\n",
              "    .colab-df-convert:hover {\n",
              "      background-color: #E2EBFA;\n",
              "      box-shadow: 0px 1px 2px rgba(60, 64, 67, 0.3), 0px 1px 3px 1px rgba(60, 64, 67, 0.15);\n",
              "      fill: #174EA6;\n",
              "    }\n",
              "\n",
              "    .colab-df-buttons div {\n",
              "      margin-bottom: 4px;\n",
              "    }\n",
              "\n",
              "    [theme=dark] .colab-df-convert {\n",
              "      background-color: #3B4455;\n",
              "      fill: #D2E3FC;\n",
              "    }\n",
              "\n",
              "    [theme=dark] .colab-df-convert:hover {\n",
              "      background-color: #434B5C;\n",
              "      box-shadow: 0px 1px 3px 1px rgba(0, 0, 0, 0.15);\n",
              "      filter: drop-shadow(0px 1px 2px rgba(0, 0, 0, 0.3));\n",
              "      fill: #FFFFFF;\n",
              "    }\n",
              "  </style>\n",
              "\n",
              "    <script>\n",
              "      const buttonEl =\n",
              "        document.querySelector('#df-8019f27a-2002-4fb6-b9e5-296681e367f4 button.colab-df-convert');\n",
              "      buttonEl.style.display =\n",
              "        google.colab.kernel.accessAllowed ? 'block' : 'none';\n",
              "\n",
              "      async function convertToInteractive(key) {\n",
              "        const element = document.querySelector('#df-8019f27a-2002-4fb6-b9e5-296681e367f4');\n",
              "        const dataTable =\n",
              "          await google.colab.kernel.invokeFunction('convertToInteractive',\n",
              "                                                    [key], {});\n",
              "        if (!dataTable) return;\n",
              "\n",
              "        const docLinkHtml = 'Like what you see? Visit the ' +\n",
              "          '<a target=\"_blank\" href=https://colab.research.google.com/notebooks/data_table.ipynb>data table notebook</a>'\n",
              "          + ' to learn more about interactive tables.';\n",
              "        element.innerHTML = '';\n",
              "        dataTable['output_type'] = 'display_data';\n",
              "        await google.colab.output.renderOutput(dataTable, element);\n",
              "        const docLink = document.createElement('div');\n",
              "        docLink.innerHTML = docLinkHtml;\n",
              "        element.appendChild(docLink);\n",
              "      }\n",
              "    </script>\n",
              "  </div>\n",
              "\n",
              "\n",
              "<div id=\"df-6a186ee2-459d-4807-ac0d-99b913396e03\">\n",
              "  <button class=\"colab-df-quickchart\" onclick=\"quickchart('df-6a186ee2-459d-4807-ac0d-99b913396e03')\"\n",
              "            title=\"Suggest charts\"\n",
              "            style=\"display:none;\">\n",
              "\n",
              "<svg xmlns=\"http://www.w3.org/2000/svg\" height=\"24px\"viewBox=\"0 0 24 24\"\n",
              "     width=\"24px\">\n",
              "    <g>\n",
              "        <path d=\"M19 3H5c-1.1 0-2 .9-2 2v14c0 1.1.9 2 2 2h14c1.1 0 2-.9 2-2V5c0-1.1-.9-2-2-2zM9 17H7v-7h2v7zm4 0h-2V7h2v10zm4 0h-2v-4h2v4z\"/>\n",
              "    </g>\n",
              "</svg>\n",
              "  </button>\n",
              "\n",
              "<style>\n",
              "  .colab-df-quickchart {\n",
              "      --bg-color: #E8F0FE;\n",
              "      --fill-color: #1967D2;\n",
              "      --hover-bg-color: #E2EBFA;\n",
              "      --hover-fill-color: #174EA6;\n",
              "      --disabled-fill-color: #AAA;\n",
              "      --disabled-bg-color: #DDD;\n",
              "  }\n",
              "\n",
              "  [theme=dark] .colab-df-quickchart {\n",
              "      --bg-color: #3B4455;\n",
              "      --fill-color: #D2E3FC;\n",
              "      --hover-bg-color: #434B5C;\n",
              "      --hover-fill-color: #FFFFFF;\n",
              "      --disabled-bg-color: #3B4455;\n",
              "      --disabled-fill-color: #666;\n",
              "  }\n",
              "\n",
              "  .colab-df-quickchart {\n",
              "    background-color: var(--bg-color);\n",
              "    border: none;\n",
              "    border-radius: 50%;\n",
              "    cursor: pointer;\n",
              "    display: none;\n",
              "    fill: var(--fill-color);\n",
              "    height: 32px;\n",
              "    padding: 0;\n",
              "    width: 32px;\n",
              "  }\n",
              "\n",
              "  .colab-df-quickchart:hover {\n",
              "    background-color: var(--hover-bg-color);\n",
              "    box-shadow: 0 1px 2px rgba(60, 64, 67, 0.3), 0 1px 3px 1px rgba(60, 64, 67, 0.15);\n",
              "    fill: var(--button-hover-fill-color);\n",
              "  }\n",
              "\n",
              "  .colab-df-quickchart-complete:disabled,\n",
              "  .colab-df-quickchart-complete:disabled:hover {\n",
              "    background-color: var(--disabled-bg-color);\n",
              "    fill: var(--disabled-fill-color);\n",
              "    box-shadow: none;\n",
              "  }\n",
              "\n",
              "  .colab-df-spinner {\n",
              "    border: 2px solid var(--fill-color);\n",
              "    border-color: transparent;\n",
              "    border-bottom-color: var(--fill-color);\n",
              "    animation:\n",
              "      spin 1s steps(1) infinite;\n",
              "  }\n",
              "\n",
              "  @keyframes spin {\n",
              "    0% {\n",
              "      border-color: transparent;\n",
              "      border-bottom-color: var(--fill-color);\n",
              "      border-left-color: var(--fill-color);\n",
              "    }\n",
              "    20% {\n",
              "      border-color: transparent;\n",
              "      border-left-color: var(--fill-color);\n",
              "      border-top-color: var(--fill-color);\n",
              "    }\n",
              "    30% {\n",
              "      border-color: transparent;\n",
              "      border-left-color: var(--fill-color);\n",
              "      border-top-color: var(--fill-color);\n",
              "      border-right-color: var(--fill-color);\n",
              "    }\n",
              "    40% {\n",
              "      border-color: transparent;\n",
              "      border-right-color: var(--fill-color);\n",
              "      border-top-color: var(--fill-color);\n",
              "    }\n",
              "    60% {\n",
              "      border-color: transparent;\n",
              "      border-right-color: var(--fill-color);\n",
              "    }\n",
              "    80% {\n",
              "      border-color: transparent;\n",
              "      border-right-color: var(--fill-color);\n",
              "      border-bottom-color: var(--fill-color);\n",
              "    }\n",
              "    90% {\n",
              "      border-color: transparent;\n",
              "      border-bottom-color: var(--fill-color);\n",
              "    }\n",
              "  }\n",
              "</style>\n",
              "\n",
              "  <script>\n",
              "    async function quickchart(key) {\n",
              "      const quickchartButtonEl =\n",
              "        document.querySelector('#' + key + ' button');\n",
              "      quickchartButtonEl.disabled = true;  // To prevent multiple clicks.\n",
              "      quickchartButtonEl.classList.add('colab-df-spinner');\n",
              "      try {\n",
              "        const charts = await google.colab.kernel.invokeFunction(\n",
              "            'suggestCharts', [key], {});\n",
              "      } catch (error) {\n",
              "        console.error('Error during call to suggestCharts:', error);\n",
              "      }\n",
              "      quickchartButtonEl.classList.remove('colab-df-spinner');\n",
              "      quickchartButtonEl.classList.add('colab-df-quickchart-complete');\n",
              "    }\n",
              "    (() => {\n",
              "      let quickchartButtonEl =\n",
              "        document.querySelector('#df-6a186ee2-459d-4807-ac0d-99b913396e03 button');\n",
              "      quickchartButtonEl.style.display =\n",
              "        google.colab.kernel.accessAllowed ? 'block' : 'none';\n",
              "    })();\n",
              "  </script>\n",
              "</div>\n",
              "\n",
              "  <div id=\"id_83d62020-9306-437e-9eba-da0b7eab6f7a\">\n",
              "    <style>\n",
              "      .colab-df-generate {\n",
              "        background-color: #E8F0FE;\n",
              "        border: none;\n",
              "        border-radius: 50%;\n",
              "        cursor: pointer;\n",
              "        display: none;\n",
              "        fill: #1967D2;\n",
              "        height: 32px;\n",
              "        padding: 0 0 0 0;\n",
              "        width: 32px;\n",
              "      }\n",
              "\n",
              "      .colab-df-generate:hover {\n",
              "        background-color: #E2EBFA;\n",
              "        box-shadow: 0px 1px 2px rgba(60, 64, 67, 0.3), 0px 1px 3px 1px rgba(60, 64, 67, 0.15);\n",
              "        fill: #174EA6;\n",
              "      }\n",
              "\n",
              "      [theme=dark] .colab-df-generate {\n",
              "        background-color: #3B4455;\n",
              "        fill: #D2E3FC;\n",
              "      }\n",
              "\n",
              "      [theme=dark] .colab-df-generate:hover {\n",
              "        background-color: #434B5C;\n",
              "        box-shadow: 0px 1px 3px 1px rgba(0, 0, 0, 0.15);\n",
              "        filter: drop-shadow(0px 1px 2px rgba(0, 0, 0, 0.3));\n",
              "        fill: #FFFFFF;\n",
              "      }\n",
              "    </style>\n",
              "    <button class=\"colab-df-generate\" onclick=\"generateWithVariable('u')\"\n",
              "            title=\"Generate code using this dataframe.\"\n",
              "            style=\"display:none;\">\n",
              "\n",
              "  <svg xmlns=\"http://www.w3.org/2000/svg\" height=\"24px\"viewBox=\"0 0 24 24\"\n",
              "       width=\"24px\">\n",
              "    <path d=\"M7,19H8.4L18.45,9,17,7.55,7,17.6ZM5,21V16.75L18.45,3.32a2,2,0,0,1,2.83,0l1.4,1.43a1.91,1.91,0,0,1,.58,1.4,1.91,1.91,0,0,1-.58,1.4L9.25,21ZM18.45,9,17,7.55Zm-12,3A5.31,5.31,0,0,0,4.9,8.1,5.31,5.31,0,0,0,1,6.5,5.31,5.31,0,0,0,4.9,4.9,5.31,5.31,0,0,0,6.5,1,5.31,5.31,0,0,0,8.1,4.9,5.31,5.31,0,0,0,12,6.5,5.46,5.46,0,0,0,6.5,12Z\"/>\n",
              "  </svg>\n",
              "    </button>\n",
              "    <script>\n",
              "      (() => {\n",
              "      const buttonEl =\n",
              "        document.querySelector('#id_83d62020-9306-437e-9eba-da0b7eab6f7a button.colab-df-generate');\n",
              "      buttonEl.style.display =\n",
              "        google.colab.kernel.accessAllowed ? 'block' : 'none';\n",
              "\n",
              "      buttonEl.onclick = () => {\n",
              "        google.colab.notebook.generateWithVariable('u');\n",
              "      }\n",
              "      })();\n",
              "    </script>\n",
              "  </div>\n",
              "\n",
              "    </div>\n",
              "  </div>\n"
            ],
            "application/vnd.google.colaboratory.intrinsic+json": {
              "type": "dataframe",
              "variable_name": "u",
              "summary": "{\n  \"name\": \"u\",\n  \"rows\": 40,\n  \"fields\": [\n    {\n      \"column\": \"a\",\n      \"properties\": {\n        \"dtype\": \"number\",\n        \"std\": 0.9938322615525036,\n        \"min\": 2.65,\n        \"max\": 6.88,\n        \"num_unique_values\": 38,\n        \"samples\": [\n          6.88,\n          3.2,\n          4.61\n        ],\n        \"semantic_type\": \"\",\n        \"description\": \"\"\n      }\n    },\n    {\n      \"column\": \"b\",\n      \"properties\": {\n        \"dtype\": \"number\",\n        \"std\": 1.0269086045268498,\n        \"min\": 2.87,\n        \"max\": 7.08,\n        \"num_unique_values\": 38,\n        \"samples\": [\n          4.37,\n          3.15,\n          5.44\n        ],\n        \"semantic_type\": \"\",\n        \"description\": \"\"\n      }\n    },\n    {\n      \"column\": \"c\",\n      \"properties\": {\n        \"dtype\": \"number\",\n        \"std\": 0.907518135723285,\n        \"min\": 2.96,\n        \"max\": 7.37,\n        \"num_unique_values\": 39,\n        \"samples\": [\n          4.79,\n          4.74,\n          3.47\n        ],\n        \"semantic_type\": \"\",\n        \"description\": \"\"\n      }\n    },\n    {\n      \"column\": \"d\",\n      \"properties\": {\n        \"dtype\": \"number\",\n        \"std\": 1.0891623457431014,\n        \"min\": 2.75,\n        \"max\": 7.35,\n        \"num_unique_values\": 37,\n        \"samples\": [\n          4.97,\n          4.14,\n          3.66\n        ],\n        \"semantic_type\": \"\",\n        \"description\": \"\"\n      }\n    },\n    {\n      \"column\": \"e\",\n      \"properties\": {\n        \"dtype\": \"number\",\n        \"std\": 0.8861570373651586,\n        \"min\": 2.7,\n        \"max\": 6.29,\n        \"num_unique_values\": 39,\n        \"samples\": [\n          4.47,\n          5.72,\n          4.15\n        ],\n        \"semantic_type\": \"\",\n        \"description\": \"\"\n      }\n    }\n  ]\n}"
            }
          },
          "metadata": {},
          "execution_count": 44
        }
      ]
    },
    {
      "cell_type": "code",
      "source": [
        "u.mean(axis = 1)"
      ],
      "metadata": {
        "colab": {
          "base_uri": "https://localhost:8080/"
        },
        "id": "-LudV6Fc9DVT",
        "outputId": "b9e1f204-cfcf-42fc-d7f3-c1dc9e4b398a"
      },
      "execution_count": null,
      "outputs": [
        {
          "output_type": "execute_result",
          "data": {
            "text/plain": [
              "0     5.104\n",
              "1     4.758\n",
              "2     4.520\n",
              "3     4.276\n",
              "4     4.266\n",
              "5     4.794\n",
              "6     5.182\n",
              "7     4.982\n",
              "8     5.324\n",
              "9     4.730\n",
              "10    5.378\n",
              "11    4.482\n",
              "12    5.572\n",
              "13    4.502\n",
              "14    4.434\n",
              "15    5.004\n",
              "16    4.860\n",
              "17    5.504\n",
              "18    5.392\n",
              "19    5.052\n",
              "20    5.024\n",
              "21    4.270\n",
              "22    5.112\n",
              "23    4.316\n",
              "24    4.410\n",
              "25    4.334\n",
              "26    4.928\n",
              "27    5.434\n",
              "28    5.420\n",
              "29    4.538\n",
              "30    4.832\n",
              "31    4.362\n",
              "32    6.082\n",
              "33    4.784\n",
              "34    4.916\n",
              "35    4.932\n",
              "36    4.412\n",
              "37    4.084\n",
              "38    4.588\n",
              "39    4.734\n",
              "dtype: float64"
            ]
          },
          "metadata": {},
          "execution_count": 45
        }
      ]
    },
    {
      "cell_type": "code",
      "source": [
        "list comprehension\n",
        "Writing functions"
      ],
      "metadata": {
        "id": "PMj79AOW9rxd"
      },
      "execution_count": null,
      "outputs": []
    },
    {
      "cell_type": "code",
      "source": [
        "def abc(x):\n",
        "  r= x * 2 - 7\n",
        "  e= r * 5\n",
        "  return e"
      ],
      "metadata": {
        "id": "jhcqSopc9v2f"
      },
      "execution_count": null,
      "outputs": []
    },
    {
      "cell_type": "code",
      "source": [
        "abc(5)"
      ],
      "metadata": {
        "colab": {
          "base_uri": "https://localhost:8080/"
        },
        "id": "LLq3e2GR-QjI",
        "outputId": "2ccf5a78-442e-4190-f730-51f95443a670"
      },
      "execution_count": null,
      "outputs": [
        {
          "output_type": "execute_result",
          "data": {
            "text/plain": [
              "15"
            ]
          },
          "metadata": {},
          "execution_count": 50
        }
      ]
    },
    {
      "cell_type": "code",
      "source": [
        "def abc(x,y):\n",
        "  z=x+y\n",
        "  return z"
      ],
      "metadata": {
        "id": "RACqUBJA-Vo1"
      },
      "execution_count": null,
      "outputs": []
    },
    {
      "cell_type": "code",
      "source": [
        "abc(3,4)"
      ],
      "metadata": {
        "colab": {
          "base_uri": "https://localhost:8080/"
        },
        "id": "usnhV4EX-zup",
        "outputId": "327f169e-fadb-43e6-8ec2-9500a80537f5"
      },
      "execution_count": null,
      "outputs": [
        {
          "output_type": "execute_result",
          "data": {
            "text/plain": [
              "7"
            ]
          },
          "metadata": {},
          "execution_count": 52
        }
      ]
    },
    {
      "cell_type": "code",
      "source": [
        "abc([1,2],[3,4])"
      ],
      "metadata": {
        "colab": {
          "base_uri": "https://localhost:8080/"
        },
        "id": "d0Pm4eNt-1c_",
        "outputId": "10ad5774-6e8f-4ecc-b817-d230e607f62c"
      },
      "execution_count": null,
      "outputs": [
        {
          "output_type": "execute_result",
          "data": {
            "text/plain": [
              "[1, 2, 3, 4]"
            ]
          },
          "metadata": {},
          "execution_count": 53
        }
      ]
    },
    {
      "cell_type": "markdown",
      "source": [
        "list comprehension"
      ],
      "metadata": {
        "id": "l9Q1lORR_cvQ"
      }
    },
    {
      "cell_type": "code",
      "source": [
        "r = [2,7,8,9,10]"
      ],
      "metadata": {
        "id": "lhZufye3-9qp"
      },
      "execution_count": null,
      "outputs": []
    },
    {
      "cell_type": "code",
      "source": [
        "[    i*2    for i in r              ]"
      ],
      "metadata": {
        "colab": {
          "base_uri": "https://localhost:8080/"
        },
        "id": "d65lN0CH_XQe",
        "outputId": "bfc2ff95-ff64-480f-c765-e497bd43dc5b"
      },
      "execution_count": null,
      "outputs": [
        {
          "output_type": "execute_result",
          "data": {
            "text/plain": [
              "[4, 14, 16, 18, 20]"
            ]
          },
          "metadata": {},
          "execution_count": 55
        }
      ]
    },
    {
      "cell_type": "code",
      "source": [
        "h = []\n",
        "for i in r:\n",
        "  h.append(i*2)"
      ],
      "metadata": {
        "id": "zREj4bNA_os6"
      },
      "execution_count": null,
      "outputs": []
    },
    {
      "cell_type": "code",
      "source": [
        "h"
      ],
      "metadata": {
        "colab": {
          "base_uri": "https://localhost:8080/"
        },
        "id": "RoiYcJVe_wz0",
        "outputId": "c65bf8de-1f50-4d34-ef42-0bd4e0ecd19c"
      },
      "execution_count": null,
      "outputs": [
        {
          "output_type": "execute_result",
          "data": {
            "text/plain": [
              "[4, 14, 16, 18, 20]"
            ]
          },
          "metadata": {},
          "execution_count": 60
        }
      ]
    },
    {
      "cell_type": "code",
      "source": [
        "h.extend"
      ],
      "metadata": {
        "colab": {
          "base_uri": "https://localhost:8080/"
        },
        "id": "crVOn4rJAdkG",
        "outputId": "e2217260-cbb8-42d3-c002-ef31763f78e7"
      },
      "execution_count": null,
      "outputs": [
        {
          "output_type": "execute_result",
          "data": {
            "text/plain": [
              "<function list.extend(iterable, /)>"
            ]
          },
          "metadata": {},
          "execution_count": 61
        }
      ]
    },
    {
      "cell_type": "code",
      "source": [
        "t = [1,2,3]\n",
        "e = [4,5]\n",
        "d = 6"
      ],
      "metadata": {
        "id": "mzPZ34YaA01b"
      },
      "execution_count": null,
      "outputs": []
    },
    {
      "cell_type": "code",
      "source": [
        "t.append(d)"
      ],
      "metadata": {
        "id": "hyr6BWR_A92Q"
      },
      "execution_count": null,
      "outputs": []
    },
    {
      "cell_type": "code",
      "source": [
        "e.extend(e)"
      ],
      "metadata": {
        "id": "RI1K_xCbBAND"
      },
      "execution_count": null,
      "outputs": []
    },
    {
      "cell_type": "markdown",
      "source": [
        "^ works only on lists"
      ],
      "metadata": {
        "id": "FVtqt0yrBKo3"
      }
    },
    {
      "cell_type": "code",
      "source": [
        "q = [1,2,3]\n",
        "q.extend([9,10])"
      ],
      "metadata": {
        "id": "GBCOJr5uBH6b"
      },
      "execution_count": null,
      "outputs": []
    },
    {
      "cell_type": "code",
      "source": [
        "q\n"
      ],
      "metadata": {
        "colab": {
          "base_uri": "https://localhost:8080/"
        },
        "id": "GNC2XD0sBT17",
        "outputId": "95223433-8670-4251-fbc5-1b817ddc9a70"
      },
      "execution_count": null,
      "outputs": [
        {
          "output_type": "execute_result",
          "data": {
            "text/plain": [
              "[1, 2, 3, 9, 10]"
            ]
          },
          "metadata": {},
          "execution_count": 73
        }
      ]
    },
    {
      "cell_type": "code",
      "source": [],
      "metadata": {
        "id": "kDYN8lt3BiTc"
      },
      "execution_count": null,
      "outputs": []
    },
    {
      "cell_type": "markdown",
      "source": [
        "append= take out, extend = add"
      ],
      "metadata": {
        "id": "vs5IyvhnBkLe"
      }
    },
    {
      "cell_type": "code",
      "source": [],
      "metadata": {
        "id": "fJl3AML4BohD"
      },
      "execution_count": null,
      "outputs": []
    }
  ]
}